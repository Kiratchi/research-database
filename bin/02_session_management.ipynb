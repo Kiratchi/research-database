{
 "cells": [
  {
   "cell_type": "code",
   "execution_count": 2,
   "metadata": {},
   "outputs": [
    {
     "name": "stdout",
     "output_type": "stream",
     "text": [
      "Connected to ES: True\n",
      "Tools initialized!\n"
     ]
    },
    {
     "name": "stderr",
     "output_type": "stream",
     "text": [
      "/Users/filipberntsson/Dev/es_workspace/venv/lib/python3.13/site-packages/elasticsearch/connection/http_urllib3.py:176: UserWarning: Connecting to elk-test.cthb.se using SSL with verify_certs=False is insecure.\n",
      "  warnings.warn(\n"
     ]
    }
   ],
   "source": [
    "import os\n",
    "import sys\n",
    "from dotenv import load_dotenv\n",
    "from elasticsearch import Elasticsearch\n",
    "from agent_tools import initialize_tools, search_publications\n",
    "\n",
    "# Load environment\n",
    "load_dotenv(dotenv_path=\".env\", override=True)\n",
    "\n",
    "# Initialize Elasticsearch client (6.x version)\n",
    "es = Elasticsearch(\n",
    "    hosts=[os.getenv('ES_HOST')],\n",
    "    http_auth=(os.getenv('ES_USER'), os.getenv('ES_PASS')),\n",
    "    verify_certs=False\n",
    ")\n",
    "\n",
    "print(f\"Connected to ES: {es.ping()}\")\n",
    "\n",
    "# Initialize the tools\n",
    "initialize_tools(es)\n",
    "print(\"Tools initialized!\")"
   ]
  },
  {
   "cell_type": "code",
   "execution_count": 3,
   "metadata": {},
   "outputs": [
    {
     "name": "stdout",
     "output_type": "stream",
     "text": [
      "Session ID: 7d826697-17fc-4a78-a301-ad0a4d6cfde3\n",
      "Total results: 1547\n",
      "\n",
      "First few results:\n",
      "\n",
      "1. On uncertainty estimation in machine learning (2024)\n",
      "   Authors: Jakob Lindqvist\n",
      "   Abstract: This thesis explores the representation of probabilistic machine learning models,<br />focusing on r...\n",
      "\n",
      "2. Modelling Cryptographic Distinguishers Using Machine Learning (2022)\n",
      "   Authors: Carlo Brunetta, Pablo Picazo-Sanchez\n",
      "   Abstract: Cryptanalysis is the development and study of attacks against cryptographic primitives and protocols...\n",
      "\n",
      "3. Operationalizing Machine Learning Using Requirements-Grounded MLOps (2024)\n",
      "   Authors: Milos Bastajic, Jonatan Boman Karinen, Jennifer Horkoff\n",
      "   Abstract: [Context &amp; Motivation] Machine learning (ML) use has increased significantly, [Question/Problem]...\n",
      "\n",
      "Year distribution:\n",
      "  2025: 224 papers\n",
      "  2024: 489 papers\n",
      "  2023: 444 papers\n",
      "  2022: 390 papers\n"
     ]
    }
   ],
   "source": [
    "# Run a test search\n",
    "summary = search_publications(\n",
    "    query=\"machine learning\", \n",
    "    filters={\"year_range\": {\"gte\": 2022}}, \n",
    "    size=10\n",
    ")\n",
    "\n",
    "# Display results nicely\n",
    "print(f\"Session ID: {summary['session_id']}\")\n",
    "print(f\"Total results: {summary['total_results']}\")\n",
    "print(f\"\\nFirst few results:\")\n",
    "for i, result in enumerate(summary['sample_results'][:3]):\n",
    "    print(f\"\\n{i+1}. {result['title']} ({result['year']})\")\n",
    "    if result['authors']:\n",
    "        print(f\"   Authors: {', '.join(result['authors'][:3])}\")\n",
    "    if result['abstract']:\n",
    "        print(f\"   Abstract: {result['abstract'][:100]}...\")\n",
    "\n",
    "# Show aggregations\n",
    "print(f\"\\nYear distribution:\")\n",
    "for year_data in summary['aggregations'].get('years', [])[:5]:\n",
    "    print(f\"  {year_data['value']}: {year_data['count']} papers\")"
   ]
  }
 ],
 "metadata": {
  "kernelspec": {
   "display_name": "venv",
   "language": "python",
   "name": "python3"
  },
  "language_info": {
   "codemirror_mode": {
    "name": "ipython",
    "version": 3
   },
   "file_extension": ".py",
   "mimetype": "text/x-python",
   "name": "python",
   "nbconvert_exporter": "python",
   "pygments_lexer": "ipython3",
   "version": "3.13.3"
  }
 },
 "nbformat": 4,
 "nbformat_minor": 2
}
